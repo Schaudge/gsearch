{
 "cells": [
  {
   "cell_type": "code",
   "execution_count": 7,
   "id": "7e1f963e",
   "metadata": {
    "scrolled": true
   },
   "outputs": [
    {
     "name": "stdout",
     "output_type": "stream",
     "text": [
      "in seqdict_jsontocsv\n",
      "reloading database ids from : /home/jpboth/Data/MetaG/GenClust/hnsw/seqdict.json\n"
     ]
    },
    {
     "name": "stderr",
     "output_type": "stream",
     "text": [
      "[2024-05-11T17:19:23Z INFO  gsearch::utils::idsketch] reloading database ids from : /home/jpboth/Data/MetaG/GenClust/hnsw/seqdict.json\n",
      "[2024-05-11T17:19:23Z INFO  gsearch::utils::idsketch] SeqDict, reloaded nb sequences : 2799\n",
      "[2024-05-11T17:19:23Z INFO  gsearch::utils::idsketch] SeqDict::reload : elapsed system time(s) 0\n",
      "[2024-05-11T17:19:23Z INFO  gsearch::utils::dumpload] seqdict_jsontocsv rdump of seqdict in csv file : \"/home/jpboth/Data/MetaG/GenClust/hnsw/seqdict.csv\"\n",
      "[2024-05-11T17:19:23Z INFO  gsearch::utils::idsketch] redumping seqdict to csv file : \"/home/jpboth/Data/MetaG/GenClust/hnsw/seqdict.csv\"\n",
      "[2024-05-11T17:19:23Z INFO  gsearch::utils::dumpload] seqdict_jsontocsv dumped nb record : 2799\n"
     ]
    }
   ],
   "source": [
    "// small evcxr notebook to convert json dict into csv\n",
    "\n",
    ":dep gsearch = {path = \"../\"}\n",
    ":dep env_logger = {version = \"0.9\"}\n",
    "\n",
    "use gsearch::utils::dumpload::*;\n",
    "use  std::path::PathBuf;\n",
    "env_logger::Builder::from_default_env().init();\n",
    "\n",
    "let count : usize  = seqdict_jsontocsv(&PathBuf::from(\"/home/jpboth/Data/MetaG/GenClust/hnsw\"));"
   ]
  },
  {
   "cell_type": "code",
   "execution_count": null,
   "id": "42957cea",
   "metadata": {},
   "outputs": [
    {
     "data": {
      "text/plain": [
       "2799"
      ]
     },
     "execution_count": 6,
     "metadata": {},
     "output_type": "execute_result"
    },
    {
     "name": "stdout",
     "output_type": "stream",
     "text": [
      "in dumpcsv  csv file : \"/home/jpboth/Data/MetaG/GenClust/hnsw/seqdict.csv\"\n"
     ]
    }
   ],
   "source": [
    "count"
   ]
  },
  {
   "cell_type": "code",
   "execution_count": null,
   "id": "bdcf20b0",
   "metadata": {},
   "outputs": [],
   "source": []
  },
  {
   "cell_type": "code",
   "execution_count": null,
   "id": "ed00500a",
   "metadata": {},
   "outputs": [],
   "source": []
  },
  {
   "cell_type": "code",
   "execution_count": null,
   "id": "a6e58448",
   "metadata": {},
   "outputs": [],
   "source": []
  }
 ],
 "metadata": {
  "kernelspec": {
   "display_name": "Rust",
   "language": "rust",
   "name": "rust"
  },
  "language_info": {
   "codemirror_mode": "rust",
   "file_extension": ".rs",
   "mimetype": "text/rust",
   "name": "rust",
   "pygment_lexer": "rust",
   "version": ""
  }
 },
 "nbformat": 4,
 "nbformat_minor": 5
}
