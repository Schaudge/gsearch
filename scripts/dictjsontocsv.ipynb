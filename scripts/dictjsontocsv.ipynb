{
 "cells": [
  {
   "cell_type": "code",
   "execution_count": 14,
   "id": "7e1f963e",
   "metadata": {
    "scrolled": true,
    "vscode": {
     "languageId": "rust"
    }
   },
   "outputs": [
    {
     "name": "stdout",
     "output_type": "stream",
     "text": [
      "in seqdict_jsontocsv\n",
      "reloading database ids from : /home/jpboth/Data/MetaG/GenClust/hnsw/seqdict.json\n",
      "in dumpcsv  csv file : \"/home/jpboth/Data/MetaG/GenClust/hnsw/seqdict.csv\"\n",
      " rec : 0, str : ../RefSeq_f__Streptomycetaceae/GCF_014648995.1_ASM1464899v1_genomic.fna\n",
      " rec : 1, str : ../RefSeq_f__Streptomycetaceae/GCF_003751985.1_ASM375198v1_genomic.fna\n",
      " rec : 2, str : ../RefSeq_f__Streptomycetaceae/GCF_021394575.1_ASM2139457v1_genomic.fna\n",
      " rec : 3, str : ../RefSeq_f__Streptomycetaceae/GCA_008931705.1_ASM893170v1_genomic.fna\n",
      " rec : 4, str : ../RefSeq_f__Streptomycetaceae/GCF_000787795.1_ASM78779v1_genomic.fna\n",
      " rec : 5, str : ../RefSeq_f__Streptomycetaceae/GCF_003947585.1_ASM394758v1_genomic.fna\n",
      " rec : 6, str : ../RefSeq_f__Streptomycetaceae/GCF_013363735.1_ASM1336373v1_genomic.fna\n",
      " rec : 7, str : ../RefSeq_f__Streptomycetaceae/GCF_001279495.1_ASM127949v1_genomic.fna\n",
      " rec : 8, str : ../RefSeq_f__Streptomycetaceae/GCF_002966105.1_ASM296610v1_genomic.fna\n",
      " rec : 9, str : ../RefSeq_f__Streptomycetaceae/GCF_010548565.1_ASM1054856v1_genomic.fna\n",
      " rec : 10, str : ../RefSeq_f__Streptomycetaceae/GCF_001484625.1_ASM148462v1_genomic.fna\n"
     ]
    },
    {
     "name": "stderr",
     "output_type": "stream",
     "text": [
      "[2024-05-05T20:46:09Z INFO  gsearch::utils::idsketch] reloading database ids from : /home/jpboth/Data/MetaG/GenClust/hnsw/seqdict.json\n",
      "[2024-05-05T20:46:09Z INFO  gsearch::utils::idsketch] SeqDict, reloaded nb sequences : 2799\n",
      "[2024-05-05T20:46:09Z INFO  gsearch::utils::idsketch] SeqDict::reload : elapsed system time(s) 0\n",
      "[2024-05-05T20:46:09Z INFO  gsearch::utils::dumpload] seqdict_jsontocsv rdump of seqdict in csv file : \"/home/jpboth/Data/MetaG/GenClust/hnsw/seqdict.csv\"\n",
      "[2024-05-05T20:46:09Z INFO  gsearch::utils::idsketch] redumping seqdict to csv file : \"/home/jpboth/Data/MetaG/GenClust/hnsw/seqdict.csv\"\n",
      "[2024-05-05T20:46:09Z INFO  gsearch::utils::dumpload] seqdict_jsontocsv dumped nb record : 2799\n"
     ]
    }
   ],
   "source": [
    "# small evcxr notebook to convert json dict into csv\n",
    "\n",
    ":dep gsearch = {path = \".\"}\n",
    ":dep env_logger = {version = \"0.9\"}\n",
    "\n",
    "use gsearch::utils::dumpload::*;\n",
    "use  std::path::PathBuf;\n",
    "env_logger::Builder::from_default_env().init();\n",
    "\n",
    "let count : usize  = seqdict_jsontocsv(&PathBuf::from(\"/home/jpboth/Data/MetaG/GenClust/hnsw\"));"
   ]
  },
  {
   "cell_type": "code",
   "execution_count": 7,
   "id": "42957cea",
   "metadata": {
    "vscode": {
     "languageId": "rust"
    }
   },
   "outputs": [
    {
     "data": {
      "text/plain": [
       "2799"
      ]
     },
     "execution_count": 7,
     "metadata": {},
     "output_type": "execute_result"
    }
   ],
   "source": [
    "count"
   ]
  },
  {
   "cell_type": "code",
   "execution_count": null,
   "id": "bdcf20b0",
   "metadata": {
    "vscode": {
     "languageId": "rust"
    }
   },
   "outputs": [],
   "source": []
  },
  {
   "cell_type": "code",
   "execution_count": null,
   "id": "ed00500a",
   "metadata": {
    "vscode": {
     "languageId": "rust"
    }
   },
   "outputs": [],
   "source": []
  },
  {
   "cell_type": "code",
   "execution_count": null,
   "id": "a6e58448",
   "metadata": {
    "vscode": {
     "languageId": "rust"
    }
   },
   "outputs": [],
   "source": []
  }
 ],
 "metadata": {
  "kernelspec": {
   "display_name": "Rust",
   "language": "rust",
   "name": "rust"
  },
  "language_info": {
   "codemirror_mode": "rust",
   "file_extension": ".rs",
   "mimetype": "text/rust",
   "name": "Rust",
   "pygment_lexer": "rust",
   "version": ""
  }
 },
 "nbformat": 4,
 "nbformat_minor": 5
}
